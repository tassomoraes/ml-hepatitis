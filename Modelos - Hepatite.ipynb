{
 "cells": [
  {
   "cell_type": "markdown",
   "id": "9533c8ce",
   "metadata": {},
   "source": [
    "Primeiro o data set será divido utilizando o método hold-out e depois os modelos serão execultados. Depois os modelos serão treinados porém utilzando o k-fold para a divisão do dataset."
   ]
  },
  {
   "cell_type": "code",
   "execution_count": 37,
   "id": "976d1b43",
   "metadata": {},
   "outputs": [],
   "source": [
    "# Bibliotecas de manipualção e visualização de dados\n",
    "import pandas as pd\n",
    "import numpy as np\n",
    "import matplotlib.pyplot as plt\n",
    "from mlxtend.plotting import plot_decision_regions\n",
    "from sklearn.preprocessing import StandardScaler\n",
    "\n",
    "# Classes dos modelo\n",
    "from sklearn.model_selection import StratifiedKFold\n",
    "from sklearn.linear_model import LogisticRegression, LinearRegression\n",
    "from sklearn.model_selection import KFold\n",
    "from sklearn.neighbors import KNeighborsClassifier as knn\n",
    "from sklearn.naive_bayes import GaussianNB, BernoulliNB\n",
    "from sklearn.neural_network import MLPClassifier\n",
    "from sklearn.svm import SVC\n",
    "from sklearn.tree import DecisionTreeClassifier\n",
    "\n",
    "# Funções de avaliação dos modelos\n",
    "from sklearn.metrics import classification_report, accuracy_score, f1_score, roc_auc_score, plot_confusion_matrix\n",
    "from sklearn.model_selection import train_test_split\n",
    "from sklearn.model_selection import GridSearchCV"
   ]
  },
  {
   "cell_type": "code",
   "execution_count": 15,
   "id": "6d7cc66e",
   "metadata": {},
   "outputs": [],
   "source": [
    "df_hepatite = pd.read_csv('HCV-Egy-Data.csv')"
   ]
  },
  {
   "cell_type": "code",
   "execution_count": 2,
   "id": "f1144b30",
   "metadata": {},
   "outputs": [],
   "source": [
    "# dataset sem outliers\n",
    "df_hepatite = pd.read_csv('HCV-Egy-Data-no-outlier.csv')"
   ]
  },
  {
   "cell_type": "markdown",
   "id": "6c76e488",
   "metadata": {},
   "source": [
    "A remoção de outliers mostrou-se eficiente na performace do modelo aumentando em serca de 1% a acurácia."
   ]
  },
  {
   "cell_type": "code",
   "execution_count": 80,
   "id": "8b436294",
   "metadata": {},
   "outputs": [],
   "source": [
    "# dataset sem instâncias com valores de rna 5\n",
    "df_hepatite = pd.read_csv('HCV-Egy-Data-no-rna5.csv')"
   ]
  },
  {
   "cell_type": "markdown",
   "id": "b0bd7159",
   "metadata": {},
   "source": [
    "A remoção das instâncias não se mostrou eficiente para performace do modelo, por isso não será utilizada."
   ]
  },
  {
   "cell_type": "code",
   "execution_count": 82,
   "id": "8cb0768c",
   "metadata": {},
   "outputs": [
    {
     "data": {
      "text/html": [
       "<div>\n",
       "<style scoped>\n",
       "    .dataframe tbody tr th:only-of-type {\n",
       "        vertical-align: middle;\n",
       "    }\n",
       "\n",
       "    .dataframe tbody tr th {\n",
       "        vertical-align: top;\n",
       "    }\n",
       "\n",
       "    .dataframe thead th {\n",
       "        text-align: right;\n",
       "    }\n",
       "</style>\n",
       "<table border=\"1\" class=\"dataframe\">\n",
       "  <thead>\n",
       "    <tr style=\"text-align: right;\">\n",
       "      <th></th>\n",
       "      <th>Unnamed: 0</th>\n",
       "      <th>Age</th>\n",
       "      <th>Gender</th>\n",
       "      <th>BMI</th>\n",
       "      <th>Fever</th>\n",
       "      <th>Nausea/Vomting</th>\n",
       "      <th>Headache</th>\n",
       "      <th>Diarrhea</th>\n",
       "      <th>FGba</th>\n",
       "      <th>Jaundice</th>\n",
       "      <th>...</th>\n",
       "      <th>ALT 36</th>\n",
       "      <th>ALT 48</th>\n",
       "      <th>ALT after 24 w</th>\n",
       "      <th>RNA Base</th>\n",
       "      <th>RNA 4</th>\n",
       "      <th>RNA 12</th>\n",
       "      <th>RNA EOT</th>\n",
       "      <th>RNA EF</th>\n",
       "      <th>BhG</th>\n",
       "      <th>Baselinehistological staging</th>\n",
       "    </tr>\n",
       "  </thead>\n",
       "  <tbody>\n",
       "    <tr>\n",
       "      <th>0</th>\n",
       "      <td>1</td>\n",
       "      <td>46</td>\n",
       "      <td>1</td>\n",
       "      <td>29</td>\n",
       "      <td>1</td>\n",
       "      <td>2</td>\n",
       "      <td>2</td>\n",
       "      <td>1</td>\n",
       "      <td>2</td>\n",
       "      <td>2</td>\n",
       "      <td>...</td>\n",
       "      <td>57</td>\n",
       "      <td>123</td>\n",
       "      <td>44</td>\n",
       "      <td>40620</td>\n",
       "      <td>538635</td>\n",
       "      <td>637056</td>\n",
       "      <td>336804</td>\n",
       "      <td>31085</td>\n",
       "      <td>4</td>\n",
       "      <td>2</td>\n",
       "    </tr>\n",
       "    <tr>\n",
       "      <th>1</th>\n",
       "      <td>3</td>\n",
       "      <td>49</td>\n",
       "      <td>2</td>\n",
       "      <td>33</td>\n",
       "      <td>1</td>\n",
       "      <td>2</td>\n",
       "      <td>1</td>\n",
       "      <td>2</td>\n",
       "      <td>1</td>\n",
       "      <td>2</td>\n",
       "      <td>...</td>\n",
       "      <td>48</td>\n",
       "      <td>77</td>\n",
       "      <td>33</td>\n",
       "      <td>1041941</td>\n",
       "      <td>449939</td>\n",
       "      <td>585688</td>\n",
       "      <td>744463</td>\n",
       "      <td>582301</td>\n",
       "      <td>10</td>\n",
       "      <td>3</td>\n",
       "    </tr>\n",
       "    <tr>\n",
       "      <th>2</th>\n",
       "      <td>5</td>\n",
       "      <td>58</td>\n",
       "      <td>2</td>\n",
       "      <td>22</td>\n",
       "      <td>2</td>\n",
       "      <td>2</td>\n",
       "      <td>2</td>\n",
       "      <td>1</td>\n",
       "      <td>2</td>\n",
       "      <td>2</td>\n",
       "      <td>...</td>\n",
       "      <td>73</td>\n",
       "      <td>114</td>\n",
       "      <td>29</td>\n",
       "      <td>1157452</td>\n",
       "      <td>1086852</td>\n",
       "      <td>5</td>\n",
       "      <td>5</td>\n",
       "      <td>5</td>\n",
       "      <td>4</td>\n",
       "      <td>4</td>\n",
       "    </tr>\n",
       "    <tr>\n",
       "      <th>3</th>\n",
       "      <td>6</td>\n",
       "      <td>42</td>\n",
       "      <td>2</td>\n",
       "      <td>26</td>\n",
       "      <td>1</td>\n",
       "      <td>1</td>\n",
       "      <td>2</td>\n",
       "      <td>2</td>\n",
       "      <td>2</td>\n",
       "      <td>2</td>\n",
       "      <td>...</td>\n",
       "      <td>84</td>\n",
       "      <td>80</td>\n",
       "      <td>28</td>\n",
       "      <td>325694</td>\n",
       "      <td>1034008</td>\n",
       "      <td>275095</td>\n",
       "      <td>214566</td>\n",
       "      <td>635157</td>\n",
       "      <td>12</td>\n",
       "      <td>4</td>\n",
       "    </tr>\n",
       "    <tr>\n",
       "      <th>4</th>\n",
       "      <td>7</td>\n",
       "      <td>48</td>\n",
       "      <td>2</td>\n",
       "      <td>30</td>\n",
       "      <td>1</td>\n",
       "      <td>1</td>\n",
       "      <td>2</td>\n",
       "      <td>2</td>\n",
       "      <td>1</td>\n",
       "      <td>1</td>\n",
       "      <td>...</td>\n",
       "      <td>96</td>\n",
       "      <td>53</td>\n",
       "      <td>39</td>\n",
       "      <td>641129</td>\n",
       "      <td>72050</td>\n",
       "      <td>787295</td>\n",
       "      <td>370605</td>\n",
       "      <td>506296</td>\n",
       "      <td>12</td>\n",
       "      <td>3</td>\n",
       "    </tr>\n",
       "  </tbody>\n",
       "</table>\n",
       "<p>5 rows × 30 columns</p>\n",
       "</div>"
      ],
      "text/plain": [
       "   Unnamed: 0  Age  Gender  BMI  Fever  Nausea/Vomting  Headache  Diarrhea  \\\n",
       "0           1   46       1   29      1               2         2         1   \n",
       "1           3   49       2   33      1               2         1         2   \n",
       "2           5   58       2   22      2               2         2         1   \n",
       "3           6   42       2   26      1               1         2         2   \n",
       "4           7   48       2   30      1               1         2         2   \n",
       "\n",
       "   FGba  Jaundice  ...  ALT 36  ALT 48  ALT after 24 w  RNA Base    RNA 4  \\\n",
       "0     2         2  ...      57     123              44     40620   538635   \n",
       "1     1         2  ...      48      77              33   1041941   449939   \n",
       "2     2         2  ...      73     114              29   1157452  1086852   \n",
       "3     2         2  ...      84      80              28    325694  1034008   \n",
       "4     1         1  ...      96      53              39    641129    72050   \n",
       "\n",
       "   RNA 12  RNA EOT  RNA EF  BhG  Baselinehistological staging  \n",
       "0  637056   336804   31085    4                             2  \n",
       "1  585688   744463  582301   10                             3  \n",
       "2       5        5       5    4                             4  \n",
       "3  275095   214566  635157   12                             4  \n",
       "4  787295   370605  506296   12                             3  \n",
       "\n",
       "[5 rows x 30 columns]"
      ]
     },
     "execution_count": 82,
     "metadata": {},
     "output_type": "execute_result"
    }
   ],
   "source": [
    "df_hepatite.head()"
   ]
  },
  {
   "cell_type": "markdown",
   "id": "13c4d3de",
   "metadata": {},
   "source": [
    "### Seperação da váriável target do dataset"
   ]
  },
  {
   "cell_type": "code",
   "execution_count": 18,
   "id": "345b733c",
   "metadata": {},
   "outputs": [],
   "source": [
    "X = df_hepatite.drop(['BhG', 'Baselinehistological staging'], axis=1)\n",
    "y = df_hepatite['Baselinehistological staging']"
   ]
  },
  {
   "cell_type": "markdown",
   "id": "8decf246",
   "metadata": {},
   "source": [
    "### Normalização dos dados\n",
    "\n",
    "Com a normalização dos dados o modelo melhorou de predição almentou em um valor de 6% na sua acurácia."
   ]
  },
  {
   "cell_type": "code",
   "execution_count": 20,
   "id": "1c53077f",
   "metadata": {},
   "outputs": [],
   "source": [
    "scaler = StandardScaler()\n",
    "scaler.fit(X)\n",
    "\n",
    "X_train = scaler.transform(X)"
   ]
  },
  {
   "cell_type": "code",
   "execution_count": 40,
   "id": "697734cc",
   "metadata": {},
   "outputs": [],
   "source": [
    "#função que retorna um dicionário com os valores dos resultados\n",
    "def model_results(model, X_train, y_train, X_test, y_test):\n",
    "    #listas para salvar as métricas dos resultados\n",
    "    accuracies_list = []\n",
    "    f1_score_list = []\n",
    "    auc_list = []\n",
    "    confusion_matrix_list = []\n",
    "    \n",
    "    #dicionário com todas listas\n",
    "    results_dict = {\n",
    "        'accuracy': accuracies_list,\n",
    "        'f1': f1_score_list,\n",
    "        'auc': auc_list,\n",
    "        'cm': confusion_matrix_list\n",
    "    }\n",
    "    \n",
    "    model.fit(X_train, y_train)\n",
    "    y_pred = model.predict(X_test)\n",
    "\n",
    "    #medindo e armazenando acurácia, f1-score e auc-score no dicionário\n",
    "    acuracy = model.score(X_test, y_test)\n",
    "    f1 = f1_score(y_test, y_pred, average='macro')\n",
    "    AUC = roc_auc_score(y_test, model.predict_proba(X_test), average='macro', multi_class='ovo')\n",
    "    CM = confusion_matrix(y_test, y_pred)\n",
    "\n",
    "    results_dict['accuracy'].append(acuracy)\n",
    "    results_dict['f1'].append(f1)\n",
    "    results_dict['auc'].append(AUC)\n",
    "    results_dict['cm'].append(CM)\n",
    "    print(f\"CM: \\n{CM} \\n\")\n",
    "\n",
    "    return results_dict"
   ]
  },
  {
   "cell_type": "code",
   "execution_count": null,
   "id": "91b9716c",
   "metadata": {},
   "outputs": [],
   "source": [
    "def kNN_grid_search(X_train, y_train):\n",
    "    #lista com números impares para o número de vizinhos do knn\n",
    "    k_range = [impar for impar in range(1,32) if (impar%2)!=0]\n",
    "    #listas com formas de considerar a ditância do vizinho\n",
    "    weights = ['uniform', 'distance']\n",
    "    #lista com formas de calcular as distâncias\n",
    "    dist = ['euclidian','manhattan','chebyshev']\n",
    "    #dicionário com parêmetros para o gridsearch\n",
    "    param_grid = {\n",
    "        'n_neighbors': k_range,\n",
    "        'weights': weights,\n",
    "        'metric': dist\n",
    "    }\n",
    "    # defining parameter range\n",
    "    grid = GridSearchCV(knn(), param_grid, cv=3, scoring='accuracy')\n",
    "    # fitting the model for grid search\n",
    "    grid.fit(X_train, y_train)\n",
    "\n",
    "    #utilizando melhores parâmetros calculados pelo gridsearch\n",
    "    k = grid.best_params_['n_neighbors']\n",
    "    w = grid.best_params_['weights']\n",
    "    m = grid.best_params_['metric']\n",
    "    print(f\"k:{k}, w:{w}, m:{m}\\n\")\n",
    "\n",
    "    return (k,w,m)"
   ]
  },
  {
   "cell_type": "markdown",
   "id": "435621e9",
   "metadata": {},
   "source": [
    "## 10-Fold\n",
    "\n",
    "Com esse método são criados 10 datasets de treino e 10 datasets de test com uma divisão de 90% para treino e 10% para teste em cada divisão."
   ]
  },
  {
   "cell_type": "code",
   "execution_count": 35,
   "id": "97872b01",
   "metadata": {},
   "outputs": [],
   "source": [
    "#função que roda os modelos em cada uma das divisões do 10-fold\n",
    "#e imprime a média e o desvio padrão dos resultados\n",
    "\n",
    "def evaluate_model_with_kfold(kf):\n",
    "    results_dict = {}\n",
    "    \n",
    "    for train, test in kf.split(X, y):\n",
    "        X_train, y_train, X_test, y_test = X.iloc[train], y.iloc[train], X.iloc[test], y.iloc[test]\n",
    "\n",
    "        #kNN\n",
    "        k,w,m = kNN_grid_search(X_train, y_train)\n",
    "        model = knn(n_neighbors=19)\n",
    "        results_dict['knn'] = model_results(model, X_train, y_train, X_test, y_test)\n",
    "\n",
    "        #DT\n",
    "        model = DecisionTreeClassifier(random_state=199)\n",
    "        results_dict['DT'] = model_results(model, X_train, y_train, X_test, y_test)\n",
    "\n",
    "        #MLP \n",
    "        model = MLPClassifier(random_state=199)\n",
    "        results_dict['MLP'] = model_results(model, X_train, y_train, X_test, y_test)\n",
    "\n",
    "        #GNB \n",
    "        model = GaussianNB()\n",
    "        results_dict['GNB'] = model_results(model, X_train, y_train, X_test, y_test)\n",
    "\n",
    "        #BNB \n",
    "        model = BernoulliNB()\n",
    "        results_dict['GNB'] = model_results(model, X_train, y_train, X_test, y_test)\n",
    "\n",
    "        #SVM\n",
    "        model = SVC(C=1, kernel='rbf', probablity=True)\n",
    "        results_dict['SVM'] = model_results(model, X_train, y_train, X_test, y_test)\n",
    "\n",
    "    # a cada interação calcula a média e o desvio padrão da \n",
    "    # acurácia, f1-score, auc-scor e matriz de confusão de cada modelo\n",
    "    for model_key in results_dict.keys():\n",
    "        accuracies = np.array(results_dict[model_key]['accuracy'])\n",
    "        f1 = np.array(results_dict[model_key]['f1'])\n",
    "        auc = np.array(results_dict[model_key]['auc'])\n",
    "\n",
    "        print(model_key)\n",
    "        print(\"Acurácia média (desvio): %.6f +- (%.6f)\" %(accuracies.mean(), accuracies.std()))\n",
    "        print(\"F1-score média (desvio): %.6f +- (%.6f)\" %(f1.mean(), f1.std()))\n",
    "        print(\"AUC média (desvio): %.6f +- (%.6f)\\n\" %(auc.mean(), auc.std()))\n",
    "        print(f\"Matriz de Confusão:  \\n{np.mean(conf_matrix,axis=0)}\\n\")"
   ]
  },
  {
   "cell_type": "markdown",
   "id": "263373f5",
   "metadata": {},
   "source": [
    "## KNN"
   ]
  },
  {
   "cell_type": "code",
   "execution_count": 86,
   "id": "b788ee74",
   "metadata": {},
   "outputs": [],
   "source": [
    "#lista com números impares para o k do knn\n",
    "k_range = [impar for impar in range(1,32) if (impar%2)!=0]\n",
    "param_grid = dict(n_neighbors=k_range)"
   ]
  },
  {
   "cell_type": "code",
   "execution_count": 87,
   "id": "72308881",
   "metadata": {},
   "outputs": [
    {
     "data": {
      "text/plain": [
       "GridSearchCV(cv=10, estimator=KNeighborsClassifier(),\n",
       "             param_grid={'n_neighbors': [1, 3, 5, 7, 9, 11, 13, 15, 17, 19, 21,\n",
       "                                         23, 25, 27, 29, 31]},\n",
       "             scoring='accuracy')"
      ]
     },
     "execution_count": 87,
     "metadata": {},
     "output_type": "execute_result"
    }
   ],
   "source": [
    "# defining parameter range\n",
    "KNN = KNeighborsClassifier()\n",
    "grid = GridSearchCV(KNN, param_grid, cv=10, scoring='accuracy')\n",
    "  \n",
    "# fitting the model for grid search\n",
    "grid.fit(X_train, y_train)"
   ]
  },
  {
   "cell_type": "code",
   "execution_count": 88,
   "id": "354d9996",
   "metadata": {},
   "outputs": [
    {
     "name": "stdout",
     "output_type": "stream",
     "text": [
      "{'n_neighbors': 19}\n"
     ]
    }
   ],
   "source": [
    "print(grid.best_params_)"
   ]
  },
  {
   "cell_type": "code",
   "execution_count": 89,
   "id": "cc8f4e1e",
   "metadata": {},
   "outputs": [
    {
     "data": {
      "text/plain": [
       "30.289855072463766"
      ]
     },
     "execution_count": 89,
     "metadata": {},
     "output_type": "execute_result"
    }
   ],
   "source": [
    "accuracy = grid.best_score_*100\n",
    "accuracy"
   ]
  },
  {
   "cell_type": "code",
   "execution_count": 54,
   "id": "0292fd7e",
   "metadata": {},
   "outputs": [
    {
     "name": "stdout",
     "output_type": "stream",
     "text": [
      "              precision    recall  f1-score   support\n",
      "\n",
      "           1       0.21      0.21      0.21        84\n",
      "           2       0.24      0.25      0.24        83\n",
      "           3       0.35      0.33      0.34        89\n",
      "           4       0.34      0.34      0.34        90\n",
      "\n",
      "    accuracy                           0.29       346\n",
      "   macro avg       0.29      0.28      0.29       346\n",
      "weighted avg       0.29      0.29      0.29       346\n",
      "\n"
     ]
    }
   ],
   "source": [
    "# vamos criar um classificador kNN com k=11\n",
    "model = knn(n_neighbors=1)\n",
    "model.fit(X_train, y_train)\n",
    "y_pred = model.predict(X_test)\n",
    "\n",
    "# e ver a sua performance no dataset de teste\n",
    "print(classification_report(y_test, y_pred))"
   ]
  },
  {
   "cell_type": "code",
   "execution_count": 55,
   "id": "76c2f5f9",
   "metadata": {},
   "outputs": [
    {
     "name": "stdout",
     "output_type": "stream",
     "text": [
      "0.2861271676300578\n"
     ]
    }
   ],
   "source": [
    "print(accuracy_score(y_test, y_pred))"
   ]
  },
  {
   "cell_type": "code",
   "execution_count": 56,
   "id": "075e56dd",
   "metadata": {},
   "outputs": [
    {
     "name": "stdout",
     "output_type": "stream",
     "text": [
      "0.28504862095278455\n"
     ]
    }
   ],
   "source": [
    "print(f1_score(y_test, y_pred, average='macro'))"
   ]
  },
  {
   "cell_type": "code",
   "execution_count": 57,
   "id": "7dd75a29",
   "metadata": {},
   "outputs": [
    {
     "name": "stdout",
     "output_type": "stream",
     "text": [
      "0.5229308172586906\n"
     ]
    }
   ],
   "source": [
    "print(roc_auc_score(y_test, model.predict_proba(X_test), average='macro', multi_class='ovo'))"
   ]
  },
  {
   "cell_type": "code",
   "execution_count": 58,
   "id": "09c147f4",
   "metadata": {},
   "outputs": [
    {
     "name": "stderr",
     "output_type": "stream",
     "text": [
      "c:\\users\\tasso\\appdata\\local\\programs\\python\\python39\\lib\\site-packages\\sklearn\\utils\\deprecation.py:87: FutureWarning: Function plot_confusion_matrix is deprecated; Function `plot_confusion_matrix` is deprecated in 1.0 and will be removed in 1.2. Use one of the class methods: ConfusionMatrixDisplay.from_predictions or ConfusionMatrixDisplay.from_estimator.\n",
      "  warnings.warn(msg, category=FutureWarning)\n"
     ]
    },
    {
     "data": {
      "text/plain": [
       "<sklearn.metrics._plot.confusion_matrix.ConfusionMatrixDisplay at 0x1cac2e48070>"
      ]
     },
     "execution_count": 58,
     "metadata": {},
     "output_type": "execute_result"
    },
    {
     "data": {
      "image/png": "[encoded data removed]",
      "text/plain": [
       "<Figure size 432x288 with 2 Axes>"
      ]
     },
     "metadata": {
      "needs_background": "light"
     },
     "output_type": "display_data"
    }
   ],
   "source": [
    "plot_confusion_matrix(model,X_test,y_test)"
   ]
  },
  {
   "cell_type": "code",
   "execution_count": null,
   "id": "c1d9f383",
   "metadata": {},
   "outputs": [],
   "source": []
  }
 ],
 "metadata": {
  "kernelspec": {
   "display_name": "Python 3 (ipykernel)",
   "language": "python",
   "name": "python3"
  },
  "language_info": {
   "codemirror_mode": {
    "name": "ipython",
    "version": 3
   },
   "file_extension": ".py",
   "mimetype": "text/x-python",
   "name": "python",
   "nbconvert_exporter": "python",
   "pygments_lexer": "ipython3",
   "version": "3.9.5"
  }
 },
 "nbformat": 4,
 "nbformat_minor": 5
}
